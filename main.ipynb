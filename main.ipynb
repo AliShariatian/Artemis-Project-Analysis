{
 "cells": [
  {
   "cell_type": "markdown",
   "metadata": {},
   "source": [
    "# <a id='toc1_'></a>[Data Analysis - Artemis Apollo mission](#toc0_)"
   ]
  },
  {
   "attachments": {},
   "cell_type": "markdown",
   "metadata": {},
   "source": [
    "Lesson: 04\n",
    "\n",
    "Time: 00:00:00"
   ]
  },
  {
   "attachments": {},
   "cell_type": "markdown",
   "metadata": {},
   "source": [
    "---"
   ]
  },
  {
   "attachments": {},
   "cell_type": "markdown",
   "metadata": {},
   "source": [
    "**Resources:**\n",
    "\n",
    "- Project source: [Plan moon mission using Python](https://learn.microsoft.com/en-us/training/modules/plan-moon-mission-using-python-pandas/) (with more details).\n",
    "- Apollo history in [Wikipedia](https://fa.wikipedia.org/wiki/%D8%A8%D8%B1%D9%86%D8%A7%D9%85%D9%87_%D9%81%D8%B6%D8%A7%DB%8C%DB%8C_%D8%A2%D9%BE%D9%88%D9%84%D9%88).\n",
    "- The raw data is scraped from [here](https://curator.jsc.nasa.gov/lunar/samplecatalog/sample_results_list.cfm) into csv file in data folder.\n"
   ]
  },
  {
   "cell_type": "markdown",
   "metadata": {},
   "source": [
    "**Table of contents:**<a id='toc0_'></a>    \n",
    "- [Data Analysis - Artemis Apollo mission](#toc1_)    \n",
    "  - [01: Convert data to DataFrame](#toc1_1_)    \n",
    "\n",
    "<!-- vscode-jupyter-toc-config\n",
    "\tnumbering=false\n",
    "\tanchor=true\n",
    "\tflat=false\n",
    "\tminLevel=1\n",
    "\tmaxLevel=6\n",
    "\t/vscode-jupyter-toc-config -->\n",
    "<!-- THIS CELL WILL BE REPLACED ON TOC UPDATE. DO NOT WRITE YOUR TEXT IN THIS CELL -->"
   ]
  },
  {
   "attachments": {},
   "cell_type": "markdown",
   "metadata": {},
   "source": [
    "---"
   ]
  },
  {
   "cell_type": "markdown",
   "metadata": {},
   "source": [
    "## <a id='toc1_1_'></a>[01: Convert data to DataFrame](#toc0_)"
   ]
  },
  {
   "cell_type": "code",
   "execution_count": 4,
   "metadata": {},
   "outputs": [],
   "source": [
    "import pandas as pd"
   ]
  },
  {
   "cell_type": "code",
   "execution_count": 6,
   "metadata": {},
   "outputs": [
    {
     "name": "stdout",
     "output_type": "stream",
     "text": [
      "<class 'pandas.core.frame.DataFrame'>\n",
      "RangeIndex: 2229 entries, 0 to 2228\n",
      "Data columns (total 6 columns):\n",
      " #   Column        Non-Null Count  Dtype  \n",
      "---  ------        --------------  -----  \n",
      " 0   ID            2229 non-null   int64  \n",
      " 1   Mission       2229 non-null   object \n",
      " 2   Type          2229 non-null   object \n",
      " 3   Subtype       2226 non-null   object \n",
      " 4   Weight (g)    2229 non-null   float64\n",
      " 5   Pristine (%)  2229 non-null   float64\n",
      "dtypes: float64(2), int64(1), object(3)\n",
      "memory usage: 104.6+ KB\n"
     ]
    }
   ],
   "source": [
    "samples_df = pd.read_csv('Data/rocksamples.csv')\n",
    "\n",
    "samples_df.info()"
   ]
  },
  {
   "cell_type": "code",
   "execution_count": 8,
   "metadata": {},
   "outputs": [
    {
     "name": "stdout",
     "output_type": "stream",
     "text": [
      "(2229, 6)\n"
     ]
    },
    {
     "data": {
      "text/html": [
       "<div>\n",
       "<style scoped>\n",
       "    .dataframe tbody tr th:only-of-type {\n",
       "        vertical-align: middle;\n",
       "    }\n",
       "\n",
       "    .dataframe tbody tr th {\n",
       "        vertical-align: top;\n",
       "    }\n",
       "\n",
       "    .dataframe thead th {\n",
       "        text-align: right;\n",
       "    }\n",
       "</style>\n",
       "<table border=\"1\" class=\"dataframe\">\n",
       "  <thead>\n",
       "    <tr style=\"text-align: right;\">\n",
       "      <th></th>\n",
       "      <th>ID</th>\n",
       "      <th>Mission</th>\n",
       "      <th>Type</th>\n",
       "      <th>Subtype</th>\n",
       "      <th>Weight (g)</th>\n",
       "      <th>Pristine (%)</th>\n",
       "    </tr>\n",
       "  </thead>\n",
       "  <tbody>\n",
       "    <tr>\n",
       "      <th>0</th>\n",
       "      <td>10001</td>\n",
       "      <td>Apollo11</td>\n",
       "      <td>Soil</td>\n",
       "      <td>Unsieved</td>\n",
       "      <td>125.8</td>\n",
       "      <td>88.36</td>\n",
       "    </tr>\n",
       "    <tr>\n",
       "      <th>1</th>\n",
       "      <td>10002</td>\n",
       "      <td>Apollo11</td>\n",
       "      <td>Soil</td>\n",
       "      <td>Unsieved</td>\n",
       "      <td>5629.0</td>\n",
       "      <td>93.73</td>\n",
       "    </tr>\n",
       "    <tr>\n",
       "      <th>2</th>\n",
       "      <td>10003</td>\n",
       "      <td>Apollo11</td>\n",
       "      <td>Basalt</td>\n",
       "      <td>Ilmenite</td>\n",
       "      <td>213.0</td>\n",
       "      <td>65.56</td>\n",
       "    </tr>\n",
       "    <tr>\n",
       "      <th>3</th>\n",
       "      <td>10004</td>\n",
       "      <td>Apollo11</td>\n",
       "      <td>Core</td>\n",
       "      <td>Unsieved</td>\n",
       "      <td>44.8</td>\n",
       "      <td>71.76</td>\n",
       "    </tr>\n",
       "    <tr>\n",
       "      <th>4</th>\n",
       "      <td>10005</td>\n",
       "      <td>Apollo11</td>\n",
       "      <td>Core</td>\n",
       "      <td>Unsieved</td>\n",
       "      <td>53.4</td>\n",
       "      <td>40.31</td>\n",
       "    </tr>\n",
       "  </tbody>\n",
       "</table>\n",
       "</div>"
      ],
      "text/plain": [
       "      ID   Mission    Type   Subtype  Weight (g)  Pristine (%)\n",
       "0  10001  Apollo11    Soil  Unsieved       125.8         88.36\n",
       "1  10002  Apollo11    Soil  Unsieved      5629.0         93.73\n",
       "2  10003  Apollo11  Basalt  Ilmenite       213.0         65.56\n",
       "3  10004  Apollo11    Core  Unsieved        44.8         71.76\n",
       "4  10005  Apollo11    Core  Unsieved        53.4         40.31"
      ]
     },
     "execution_count": 8,
     "metadata": {},
     "output_type": "execute_result"
    }
   ],
   "source": [
    "print(samples_df.shape)\n",
    "samples_df.head()"
   ]
  },
  {
   "cell_type": "code",
   "execution_count": null,
   "metadata": {},
   "outputs": [],
   "source": []
  }
 ],
 "metadata": {
  "kernelspec": {
   "display_name": "Python 3",
   "language": "python",
   "name": "python3"
  },
  "language_info": {
   "codemirror_mode": {
    "name": "ipython",
    "version": 3
   },
   "file_extension": ".py",
   "mimetype": "text/x-python",
   "name": "python",
   "nbconvert_exporter": "python",
   "pygments_lexer": "ipython3",
   "version": "3.11.2"
  },
  "orig_nbformat": 4
 },
 "nbformat": 4,
 "nbformat_minor": 2
}
