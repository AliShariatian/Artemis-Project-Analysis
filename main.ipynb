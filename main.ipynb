{
 "cells": [
  {
   "cell_type": "markdown",
   "metadata": {},
   "source": [
    "# <a id='toc1_'></a>[Data Analysis for Artemis Apollo mission](#toc0_)"
   ]
  },
  {
   "cell_type": "markdown",
   "metadata": {},
   "source": [
    "**Table of contents:**<a id='toc0_'></a>    \n",
    "- [Data Analysis for Artemis Apollo mission](#toc1_)    \n",
    "  - [01: Convert data to DataFrame](#toc1_1_)    \n",
    "  - [02: Data Cleaning](#toc1_2_)    \n",
    "      - [View and describe data:](#toc1_2_1_1_)    \n",
    "      - [Visualization:](#toc1_2_1_2_)    \n",
    "      - [Dealing with Missing value and Duplicate rows](#toc1_2_1_3_)    \n",
    "    - [Outlier Detection](#toc1_2_2_)    \n",
    "  - [03: Data Analysis](#toc1_3_)    \n",
    "  - [04: Interpretation and prediction](#toc1_4_)    \n",
    "\n",
    "<!-- vscode-jupyter-toc-config\n",
    "\tnumbering=false\n",
    "\tanchor=true\n",
    "\tflat=false\n",
    "\tminLevel=1\n",
    "\tmaxLevel=6\n",
    "\t/vscode-jupyter-toc-config -->\n",
    "<!-- THIS CELL WILL BE REPLACED ON TOC UPDATE. DO NOT WRITE YOUR TEXT IN THIS CELL -->"
   ]
  },
  {
   "attachments": {},
   "cell_type": "markdown",
   "metadata": {},
   "source": [
    "---"
   ]
  },
  {
   "attachments": {},
   "cell_type": "markdown",
   "metadata": {},
   "source": [
    "Basic information of the variables:\n",
    "- ID: \n",
    "- Mission: \n",
    "- Type: \n",
    "- Subtype: \n",
    "- Weight (g): \n",
    "- Pristine (%):"
   ]
  },
  {
   "attachments": {},
   "cell_type": "markdown",
   "metadata": {},
   "source": [
    "---"
   ]
  },
  {
   "attachments": {},
   "cell_type": "markdown",
   "metadata": {},
   "source": [
    "Importing modules:"
   ]
  },
  {
   "cell_type": "code",
   "execution_count": 1,
   "metadata": {},
   "outputs": [],
   "source": [
    "import pandas as pd\n",
    "import matplotlib.pyplot as plt\n",
    "import seaborn as sns\n"
   ]
  },
  {
   "attachments": {},
   "cell_type": "markdown",
   "metadata": {},
   "source": [
    "Add options:"
   ]
  },
  {
   "cell_type": "code",
   "execution_count": 2,
   "metadata": {},
   "outputs": [
    {
     "name": "stderr",
     "output_type": "stream",
     "text": [
      "C:\\Users\\ArminaRayaneh\\AppData\\Local\\Temp\\ipykernel_5920\\1770176069.py:1: MatplotlibDeprecationWarning: The seaborn styles shipped by Matplotlib are deprecated since 3.6, as they no longer correspond to the styles shipped by seaborn. However, they will remain available as 'seaborn-v0_8-<style>'. Alternatively, directly use the seaborn API instead.\n",
      "  plt.style.use('seaborn')\n"
     ]
    }
   ],
   "source": [
    "plt.style.use('seaborn')\n",
    "%matplotlib inline"
   ]
  },
  {
   "cell_type": "markdown",
   "metadata": {},
   "source": [
    "## <a id='toc1_1_'></a>[01: Convert data to DataFrame](#toc0_)"
   ]
  },
  {
   "attachments": {},
   "cell_type": "markdown",
   "metadata": {},
   "source": [
    "Importing Data:"
   ]
  },
  {
   "cell_type": "code",
   "execution_count": 3,
   "metadata": {},
   "outputs": [],
   "source": [
    "samples_df = pd.read_csv('Data/rocksamples.csv')"
   ]
  },
  {
   "cell_type": "markdown",
   "metadata": {},
   "source": [
    "## <a id='toc1_2_'></a>[02: Data Cleaning](#toc0_)"
   ]
  },
  {
   "cell_type": "markdown",
   "metadata": {},
   "source": [
    "#### <a id='toc1_2_1_1_'></a>[View and describe data:](#toc0_)"
   ]
  },
  {
   "cell_type": "code",
   "execution_count": 4,
   "metadata": {},
   "outputs": [
    {
     "data": {
      "text/html": [
       "<div>\n",
       "<style scoped>\n",
       "    .dataframe tbody tr th:only-of-type {\n",
       "        vertical-align: middle;\n",
       "    }\n",
       "\n",
       "    .dataframe tbody tr th {\n",
       "        vertical-align: top;\n",
       "    }\n",
       "\n",
       "    .dataframe thead th {\n",
       "        text-align: right;\n",
       "    }\n",
       "</style>\n",
       "<table border=\"1\" class=\"dataframe\">\n",
       "  <thead>\n",
       "    <tr style=\"text-align: right;\">\n",
       "      <th></th>\n",
       "      <th>ID</th>\n",
       "      <th>Mission</th>\n",
       "      <th>Type</th>\n",
       "      <th>Subtype</th>\n",
       "      <th>Weight (g)</th>\n",
       "      <th>Pristine (%)</th>\n",
       "    </tr>\n",
       "  </thead>\n",
       "  <tbody>\n",
       "    <tr>\n",
       "      <th>0</th>\n",
       "      <td>10001</td>\n",
       "      <td>Apollo11</td>\n",
       "      <td>Soil</td>\n",
       "      <td>Unsieved</td>\n",
       "      <td>125.80</td>\n",
       "      <td>88.36</td>\n",
       "    </tr>\n",
       "    <tr>\n",
       "      <th>1</th>\n",
       "      <td>10002</td>\n",
       "      <td>Apollo11</td>\n",
       "      <td>Soil</td>\n",
       "      <td>Unsieved</td>\n",
       "      <td>5629.00</td>\n",
       "      <td>93.73</td>\n",
       "    </tr>\n",
       "    <tr>\n",
       "      <th>2</th>\n",
       "      <td>10003</td>\n",
       "      <td>Apollo11</td>\n",
       "      <td>Basalt</td>\n",
       "      <td>Ilmenite</td>\n",
       "      <td>213.00</td>\n",
       "      <td>65.56</td>\n",
       "    </tr>\n",
       "    <tr>\n",
       "      <th>3</th>\n",
       "      <td>10004</td>\n",
       "      <td>Apollo11</td>\n",
       "      <td>Core</td>\n",
       "      <td>Unsieved</td>\n",
       "      <td>44.80</td>\n",
       "      <td>71.76</td>\n",
       "    </tr>\n",
       "    <tr>\n",
       "      <th>4</th>\n",
       "      <td>10005</td>\n",
       "      <td>Apollo11</td>\n",
       "      <td>Core</td>\n",
       "      <td>Unsieved</td>\n",
       "      <td>53.40</td>\n",
       "      <td>40.31</td>\n",
       "    </tr>\n",
       "    <tr>\n",
       "      <th>...</th>\n",
       "      <td>...</td>\n",
       "      <td>...</td>\n",
       "      <td>...</td>\n",
       "      <td>...</td>\n",
       "      <td>...</td>\n",
       "      <td>...</td>\n",
       "    </tr>\n",
       "    <tr>\n",
       "      <th>2224</th>\n",
       "      <td>79528</td>\n",
       "      <td>Apollo17</td>\n",
       "      <td>Breccia</td>\n",
       "      <td>Regolith</td>\n",
       "      <td>2.38</td>\n",
       "      <td>100.00</td>\n",
       "    </tr>\n",
       "    <tr>\n",
       "      <th>2225</th>\n",
       "      <td>79529</td>\n",
       "      <td>Apollo17</td>\n",
       "      <td>Breccia</td>\n",
       "      <td>Regolith</td>\n",
       "      <td>1.84</td>\n",
       "      <td>100.00</td>\n",
       "    </tr>\n",
       "    <tr>\n",
       "      <th>2226</th>\n",
       "      <td>79535</td>\n",
       "      <td>Apollo17</td>\n",
       "      <td>Breccia</td>\n",
       "      <td>Regolith</td>\n",
       "      <td>1.69</td>\n",
       "      <td>100.00</td>\n",
       "    </tr>\n",
       "    <tr>\n",
       "      <th>2227</th>\n",
       "      <td>79536</td>\n",
       "      <td>Apollo17</td>\n",
       "      <td>Breccia</td>\n",
       "      <td>Regolith</td>\n",
       "      <td>1.66</td>\n",
       "      <td>100.00</td>\n",
       "    </tr>\n",
       "    <tr>\n",
       "      <th>2228</th>\n",
       "      <td>79537</td>\n",
       "      <td>Apollo17</td>\n",
       "      <td>Breccia</td>\n",
       "      <td>Regolith</td>\n",
       "      <td>1.05</td>\n",
       "      <td>100.00</td>\n",
       "    </tr>\n",
       "  </tbody>\n",
       "</table>\n",
       "<p>2229 rows × 6 columns</p>\n",
       "</div>"
      ],
      "text/plain": [
       "         ID   Mission     Type   Subtype  Weight (g)  Pristine (%)\n",
       "0     10001  Apollo11     Soil  Unsieved      125.80         88.36\n",
       "1     10002  Apollo11     Soil  Unsieved     5629.00         93.73\n",
       "2     10003  Apollo11   Basalt  Ilmenite      213.00         65.56\n",
       "3     10004  Apollo11     Core  Unsieved       44.80         71.76\n",
       "4     10005  Apollo11     Core  Unsieved       53.40         40.31\n",
       "...     ...       ...      ...       ...         ...           ...\n",
       "2224  79528  Apollo17  Breccia  Regolith        2.38        100.00\n",
       "2225  79529  Apollo17  Breccia  Regolith        1.84        100.00\n",
       "2226  79535  Apollo17  Breccia  Regolith        1.69        100.00\n",
       "2227  79536  Apollo17  Breccia  Regolith        1.66        100.00\n",
       "2228  79537  Apollo17  Breccia  Regolith        1.05        100.00\n",
       "\n",
       "[2229 rows x 6 columns]"
      ]
     },
     "execution_count": 4,
     "metadata": {},
     "output_type": "execute_result"
    }
   ],
   "source": [
    "samples_df  #Show head, tail and shape of data"
   ]
  },
  {
   "cell_type": "code",
   "execution_count": 5,
   "metadata": {},
   "outputs": [
    {
     "name": "stdout",
     "output_type": "stream",
     "text": [
      "<class 'pandas.core.frame.DataFrame'>\n",
      "RangeIndex: 2229 entries, 0 to 2228\n",
      "Data columns (total 6 columns):\n",
      " #   Column        Non-Null Count  Dtype  \n",
      "---  ------        --------------  -----  \n",
      " 0   ID            2229 non-null   int64  \n",
      " 1   Mission       2229 non-null   object \n",
      " 2   Type          2229 non-null   object \n",
      " 3   Subtype       2226 non-null   object \n",
      " 4   Weight (g)    2229 non-null   float64\n",
      " 5   Pristine (%)  2229 non-null   float64\n",
      "dtypes: float64(2), int64(1), object(3)\n",
      "memory usage: 104.6+ KB\n"
     ]
    },
    {
     "data": {
      "text/html": [
       "<div>\n",
       "<style scoped>\n",
       "    .dataframe tbody tr th:only-of-type {\n",
       "        vertical-align: middle;\n",
       "    }\n",
       "\n",
       "    .dataframe tbody tr th {\n",
       "        vertical-align: top;\n",
       "    }\n",
       "\n",
       "    .dataframe thead th {\n",
       "        text-align: right;\n",
       "    }\n",
       "</style>\n",
       "<table border=\"1\" class=\"dataframe\">\n",
       "  <thead>\n",
       "    <tr style=\"text-align: right;\">\n",
       "      <th></th>\n",
       "      <th>ID</th>\n",
       "      <th>Weight (g)</th>\n",
       "      <th>Pristine (%)</th>\n",
       "    </tr>\n",
       "  </thead>\n",
       "  <tbody>\n",
       "    <tr>\n",
       "      <th>count</th>\n",
       "      <td>2229.000000</td>\n",
       "      <td>2229.000000</td>\n",
       "      <td>2229.000000</td>\n",
       "    </tr>\n",
       "    <tr>\n",
       "      <th>mean</th>\n",
       "      <td>52058.432032</td>\n",
       "      <td>168.253024</td>\n",
       "      <td>84.512764</td>\n",
       "    </tr>\n",
       "    <tr>\n",
       "      <th>std</th>\n",
       "      <td>26207.651471</td>\n",
       "      <td>637.286458</td>\n",
       "      <td>22.057299</td>\n",
       "    </tr>\n",
       "    <tr>\n",
       "      <th>min</th>\n",
       "      <td>10001.000000</td>\n",
       "      <td>0.000000</td>\n",
       "      <td>0.000000</td>\n",
       "    </tr>\n",
       "    <tr>\n",
       "      <th>25%</th>\n",
       "      <td>15437.000000</td>\n",
       "      <td>3.000000</td>\n",
       "      <td>80.010000</td>\n",
       "    </tr>\n",
       "    <tr>\n",
       "      <th>50%</th>\n",
       "      <td>65527.000000</td>\n",
       "      <td>10.200000</td>\n",
       "      <td>92.300000</td>\n",
       "    </tr>\n",
       "    <tr>\n",
       "      <th>75%</th>\n",
       "      <td>72142.000000</td>\n",
       "      <td>93.490000</td>\n",
       "      <td>98.140000</td>\n",
       "    </tr>\n",
       "    <tr>\n",
       "      <th>max</th>\n",
       "      <td>79537.000000</td>\n",
       "      <td>11729.000000</td>\n",
       "      <td>180.000000</td>\n",
       "    </tr>\n",
       "  </tbody>\n",
       "</table>\n",
       "</div>"
      ],
      "text/plain": [
       "                 ID    Weight (g)  Pristine (%)\n",
       "count   2229.000000   2229.000000   2229.000000\n",
       "mean   52058.432032    168.253024     84.512764\n",
       "std    26207.651471    637.286458     22.057299\n",
       "min    10001.000000      0.000000      0.000000\n",
       "25%    15437.000000      3.000000     80.010000\n",
       "50%    65527.000000     10.200000     92.300000\n",
       "75%    72142.000000     93.490000     98.140000\n",
       "max    79537.000000  11729.000000    180.000000"
      ]
     },
     "execution_count": 5,
     "metadata": {},
     "output_type": "execute_result"
    }
   ],
   "source": [
    "samples_df.info()\n",
    "samples_df.describe()"
   ]
  },
  {
   "attachments": {},
   "cell_type": "markdown",
   "metadata": {},
   "source": [
    "**Warning:** why the _Pristine (%) max value_ is more than 100% !?"
   ]
  },
  {
   "cell_type": "markdown",
   "metadata": {},
   "source": [
    "#### <a id='toc1_2_1_2_'></a>[Visualization:](#toc0_)"
   ]
  },
  {
   "cell_type": "code",
   "execution_count": 6,
   "metadata": {},
   "outputs": [
    {
     "data": {
      "image/png": "[encoded data removed]",
      "text/plain": [
       "<Figure size 1800x600 with 3 Axes>"
      ]
     },
     "metadata": {},
     "output_type": "display_data"
    }
   ],
   "source": [
    "samples_df.hist(layout=(1, 3), figsize=(18, 6), bins=30)\n",
    "plt.show()"
   ]
  },
  {
   "cell_type": "code",
   "execution_count": 7,
   "metadata": {},
   "outputs": [
    {
     "data": {
      "image/png": "[encoded data removed]",
      "text/plain": [
       "<Figure size 800x550 with 1 Axes>"
      ]
     },
     "metadata": {},
     "output_type": "display_data"
    }
   ],
   "source": [
    "plt.scatter(samples_df['Mission'], samples_df['Weight (g)'])\n",
    "\n",
    "plt.title('Scatter Plot')\n",
    "plt.xlabel('Mission')\n",
    "plt.ylabel('Weight (g)')\n",
    "plt.show()"
   ]
  },
  {
   "cell_type": "code",
   "execution_count": 8,
   "metadata": {},
   "outputs": [
    {
     "data": {
      "image/png": "[encoded data removed]",
      "text/plain": [
       "<Figure size 800x550 with 1 Axes>"
      ]
     },
     "metadata": {},
     "output_type": "display_data"
    }
   ],
   "source": [
    "plt.scatter(samples_df['Pristine (%)'], samples_df['Weight (g)'])\n",
    "\n",
    "plt.title('Scatter Plot')\n",
    "plt.xlabel('Pristine (%)')\n",
    "plt.ylabel('Weight (g)')\n",
    "plt.show()"
   ]
  },
  {
   "cell_type": "markdown",
   "metadata": {},
   "source": [
    "#### <a id='toc1_2_1_3_'></a>[Dealing with Missing value and Duplicate rows](#toc0_)"
   ]
  },
  {
   "attachments": {},
   "cell_type": "markdown",
   "metadata": {},
   "source": [
    "Creating a Backup from the Original DataSet and putting it up into the `samples_df_modify` data frame and working with it:"
   ]
  },
  {
   "cell_type": "code",
   "execution_count": 9,
   "metadata": {},
   "outputs": [],
   "source": [
    "samples_df_modify = samples_df.copy()"
   ]
  },
  {
   "attachments": {},
   "cell_type": "markdown",
   "metadata": {},
   "source": [
    "Count of _NA (Not Available)_ value in every columns:"
   ]
  },
  {
   "cell_type": "code",
   "execution_count": 10,
   "metadata": {},
   "outputs": [
    {
     "name": "stdout",
     "output_type": "stream",
     "text": [
      "ID              0\n",
      "Mission         0\n",
      "Type            0\n",
      "Subtype         3\n",
      "Weight (g)      0\n",
      "Pristine (%)    0\n",
      "dtype: int64\n"
     ]
    }
   ],
   "source": [
    "print(samples_df_modify.isna().sum())"
   ]
  },
  {
   "attachments": {},
   "cell_type": "markdown",
   "metadata": {},
   "source": [
    "Count of _NaN (Not a Number)_ value in every columns:"
   ]
  },
  {
   "cell_type": "code",
   "execution_count": 11,
   "metadata": {},
   "outputs": [
    {
     "name": "stdout",
     "output_type": "stream",
     "text": [
      "ID              0\n",
      "Mission         0\n",
      "Type            0\n",
      "Subtype         3\n",
      "Weight (g)      0\n",
      "Pristine (%)    0\n",
      "dtype: int64\n"
     ]
    }
   ],
   "source": [
    "print(samples_df_modify.isnull().sum())"
   ]
  },
  {
   "attachments": {},
   "cell_type": "markdown",
   "metadata": {},
   "source": [
    "Count of _Duplicale rows_:\n",
    "\n",
    "_(**Duplicate rows:** A row whose columns are the same as another row)_"
   ]
  },
  {
   "cell_type": "code",
   "execution_count": 12,
   "metadata": {},
   "outputs": [
    {
     "name": "stdout",
     "output_type": "stream",
     "text": [
      "0\n"
     ]
    }
   ],
   "source": [
    "print(samples_df_modify.duplicated().sum())"
   ]
  },
  {
   "cell_type": "code",
   "execution_count": 13,
   "metadata": {},
   "outputs": [
    {
     "name": "stdout",
     "output_type": "stream",
     "text": [
      "Data shape Before Handling missing data:\n",
      "(2229, 6)\n"
     ]
    }
   ],
   "source": [
    "print('Data shape Before Handling missing data:')\n",
    "print(samples_df_modify.shape)"
   ]
  },
  {
   "attachments": {},
   "cell_type": "markdown",
   "metadata": {},
   "source": [
    "Two approaches to handling missing data can be considered [(source)](https://blog.faradars.org/missing-data-in-r/):\n",
    "- Removing observations or variables with missing values from statistical calculations and analyses.\n",
    "- Replacing missing data with an alternative value (for example, the mean or median of variable values)."
   ]
  },
  {
   "attachments": {},
   "cell_type": "markdown",
   "metadata": {},
   "source": [
    "Replace _Weight (g)_ empty cells with _Weight (g) Mean_:"
   ]
  },
  {
   "cell_type": "code",
   "execution_count": 14,
   "metadata": {},
   "outputs": [],
   "source": [
    "weight_mean = samples_df_modify['Weight (g)'].mean()\n",
    "samples_df_modify['Weight (g)'].fillna(weight_mean, inplace=True)"
   ]
  },
  {
   "attachments": {},
   "cell_type": "markdown",
   "metadata": {},
   "source": [
    "  Remove missing values (Remove Rows) by `dropna()` function and putting up into `samples_df_modify` dataframe.\n",
    "  \n",
    "  Or use `samples_df_modify.dropna(inplace=True)` which does the same thing."
   ]
  },
  {
   "cell_type": "code",
   "execution_count": 15,
   "metadata": {},
   "outputs": [
    {
     "name": "stdout",
     "output_type": "stream",
     "text": [
      "(2226, 6)\n"
     ]
    }
   ],
   "source": [
    "samples_df_modify.dropna(inplace=True)\n",
    "print(samples_df_modify.shape)"
   ]
  },
  {
   "attachments": {},
   "cell_type": "markdown",
   "metadata": {},
   "source": [
    "Remove Duplicate rows with `drop_duplicates()` that it Return DataFrame with duplicate rows removed (if exist)."
   ]
  },
  {
   "cell_type": "code",
   "execution_count": 16,
   "metadata": {},
   "outputs": [
    {
     "name": "stdout",
     "output_type": "stream",
     "text": [
      "(2226, 6)\n"
     ]
    }
   ],
   "source": [
    "samples_df_modify.drop_duplicates(inplace=True)\n",
    "print(samples_df_modify.shape)"
   ]
  },
  {
   "cell_type": "code",
   "execution_count": 17,
   "metadata": {},
   "outputs": [
    {
     "name": "stdout",
     "output_type": "stream",
     "text": [
      "After Handling missing data:\n",
      "(2226, 6)\n"
     ]
    }
   ],
   "source": [
    "print('After Handling missing data:')\n",
    "print(samples_df_modify.shape)"
   ]
  },
  {
   "attachments": {},
   "cell_type": "markdown",
   "metadata": {},
   "source": [
    "Conversion of weight unit from _gram_ to _kilogram_ for further analysis:\n",
    "\n",
    "(Formula: \n",
    "$\\text{kg} = \\text{g} \\times \\frac{1}{1000}$)"
   ]
  },
  {
   "cell_type": "code",
   "execution_count": 18,
   "metadata": {},
   "outputs": [],
   "source": [
    "samples_df_modify['Weight (g)'] = samples_df_modify['Weight (g)'].apply(\n",
    "    lambda x: x * 0.001)\n"
   ]
  },
  {
   "attachments": {},
   "cell_type": "markdown",
   "metadata": {},
   "source": [
    "Rename _Weight (g)_ column title to _Weight (kg):_"
   ]
  },
  {
   "cell_type": "code",
   "execution_count": 19,
   "metadata": {},
   "outputs": [
    {
     "data": {
      "text/html": [
       "<div>\n",
       "<style scoped>\n",
       "    .dataframe tbody tr th:only-of-type {\n",
       "        vertical-align: middle;\n",
       "    }\n",
       "\n",
       "    .dataframe tbody tr th {\n",
       "        vertical-align: top;\n",
       "    }\n",
       "\n",
       "    .dataframe thead th {\n",
       "        text-align: right;\n",
       "    }\n",
       "</style>\n",
       "<table border=\"1\" class=\"dataframe\">\n",
       "  <thead>\n",
       "    <tr style=\"text-align: right;\">\n",
       "      <th></th>\n",
       "      <th>ID</th>\n",
       "      <th>Mission</th>\n",
       "      <th>Type</th>\n",
       "      <th>Subtype</th>\n",
       "      <th>Weight (kg)</th>\n",
       "      <th>Pristine (%)</th>\n",
       "    </tr>\n",
       "  </thead>\n",
       "  <tbody>\n",
       "    <tr>\n",
       "      <th>0</th>\n",
       "      <td>10001</td>\n",
       "      <td>Apollo11</td>\n",
       "      <td>Soil</td>\n",
       "      <td>Unsieved</td>\n",
       "      <td>0.1258</td>\n",
       "      <td>88.36</td>\n",
       "    </tr>\n",
       "    <tr>\n",
       "      <th>1</th>\n",
       "      <td>10002</td>\n",
       "      <td>Apollo11</td>\n",
       "      <td>Soil</td>\n",
       "      <td>Unsieved</td>\n",
       "      <td>5.6290</td>\n",
       "      <td>93.73</td>\n",
       "    </tr>\n",
       "    <tr>\n",
       "      <th>2</th>\n",
       "      <td>10003</td>\n",
       "      <td>Apollo11</td>\n",
       "      <td>Basalt</td>\n",
       "      <td>Ilmenite</td>\n",
       "      <td>0.2130</td>\n",
       "      <td>65.56</td>\n",
       "    </tr>\n",
       "    <tr>\n",
       "      <th>3</th>\n",
       "      <td>10004</td>\n",
       "      <td>Apollo11</td>\n",
       "      <td>Core</td>\n",
       "      <td>Unsieved</td>\n",
       "      <td>0.0448</td>\n",
       "      <td>71.76</td>\n",
       "    </tr>\n",
       "    <tr>\n",
       "      <th>4</th>\n",
       "      <td>10005</td>\n",
       "      <td>Apollo11</td>\n",
       "      <td>Core</td>\n",
       "      <td>Unsieved</td>\n",
       "      <td>0.0534</td>\n",
       "      <td>40.31</td>\n",
       "    </tr>\n",
       "  </tbody>\n",
       "</table>\n",
       "</div>"
      ],
      "text/plain": [
       "      ID   Mission    Type   Subtype  Weight (kg)  Pristine (%)\n",
       "0  10001  Apollo11    Soil  Unsieved       0.1258         88.36\n",
       "1  10002  Apollo11    Soil  Unsieved       5.6290         93.73\n",
       "2  10003  Apollo11  Basalt  Ilmenite       0.2130         65.56\n",
       "3  10004  Apollo11    Core  Unsieved       0.0448         71.76\n",
       "4  10005  Apollo11    Core  Unsieved       0.0534         40.31"
      ]
     },
     "execution_count": 19,
     "metadata": {},
     "output_type": "execute_result"
    }
   ],
   "source": [
    "samples_df_modify.rename(columns={'Weight (g)': 'Weight (kg)'}, inplace=True)\n",
    "samples_df_modify.head()"
   ]
  },
  {
   "cell_type": "markdown",
   "metadata": {},
   "source": [
    "### <a id='toc1_2_2_'></a>[Outlier Detection](#toc0_)"
   ]
  },
  {
   "attachments": {},
   "cell_type": "markdown",
   "metadata": {},
   "source": [
    "Outliers:\n",
    "- Caused by incorrect data entry.\n",
    "- The real existence of outliers."
   ]
  },
  {
   "attachments": {},
   "cell_type": "markdown",
   "metadata": {},
   "source": [
    "Remove outlire methods:\n",
    "- [IQR _(with BoxPlot)_](https://en.wikipedia.org/wiki/Interquartile_range)\n",
    "- [Skewnees](https://blog.faradars.org/skewness/)\n",
    "- [Z-Score](https://chistio.ir/%D9%85%D8%AD%D8%A7%D8%B3%D8%A8%D9%87-%D8%AF%D8%A7%D8%AF%D9%87-%D9%BE%D8%B1%D8%AA-z-score/)\n",
    "- ..."
   ]
  },
  {
   "attachments": {},
   "cell_type": "markdown",
   "metadata": {},
   "source": [
    "For read more:\n",
    "- [Cleaning up Data from Outliers _(Pluralsight.com)_](https://www.pluralsight.com/guides/cleaning-up-data-from-outliers)\n",
    "- [Ways to Detect and Remove the Outliers _(Towardsdatascience.com)_](https://towardsdatascience.com/ways-to-detect-and-remove-the-outliers-404d16608dba)\n"
   ]
  },
  {
   "attachments": {},
   "cell_type": "markdown",
   "metadata": {},
   "source": [
    "Outlier Detection with _BoxPlot:_"
   ]
  },
  {
   "attachments": {},
   "cell_type": "markdown",
   "metadata": {},
   "source": [
    "![Box polot](img/boxplot.jpg)"
   ]
  },
  {
   "cell_type": "code",
   "execution_count": 20,
   "metadata": {},
   "outputs": [
    {
     "data": {
      "image/png": "[encoded data removed]",
      "text/plain": [
       "<Figure size 1200x400 with 1 Axes>"
      ]
     },
     "metadata": {},
     "output_type": "display_data"
    }
   ],
   "source": [
    "plt.figure(figsize=(12, 4))\n",
    "sns.boxplot(x=samples_df_modify['Pristine (%)'])\n",
    "\n",
    "plt.title('Pristine BoxPlot Before removing outlier (Pristine > 100)')\n",
    "plt.show()"
   ]
  },
  {
   "attachments": {},
   "cell_type": "markdown",
   "metadata": {},
   "source": [
    "Remove Outliers (rows) with IQR _(InterQuartile Range)_ method [(Read more)](https://en.wikipedia.org/wiki/Interquartile_range):\n",
    "\n",
    "$\n",
    "\\text{IQR} = Q_3 - Q_1 \\\\\n",
    "\\text{Minimum} = Q_1 - 1.5 \\times \\text{IQR} \\\\\n",
    "\\text{Maximum} = Q_3 + 1.5 \\times \\text{IQR}\n",
    "$"
   ]
  },
  {
   "attachments": {},
   "cell_type": "markdown",
   "metadata": {},
   "source": [
    "For remove Outlier of Weight (If needed), with IQR method, use below Code:\n",
    "\n",
    "```{python}\n",
    "q1_weight = samples_df_modify['Weight (kg)'].quantile(q=0.25)\n",
    "q3_weight = samples_df_modify['Weight (kg)'].quantile(q=0.75)\n",
    "\n",
    "IQR_weight = q3_weight - q1_weight\n",
    "\n",
    "minimum = q1_weight - 1.5*IQR_weight\n",
    "maximum = q3_weight + 1.5*IQR_weight\n",
    "\n",
    "\n",
    "for row in samples_df_modify.index:\n",
    "    if samples_df_modify.loc[row, 'Weight (kg)'] < (minimum):\n",
    "        samples_df_modify.drop(row, inplace=True)\n",
    "    \n",
    "    if samples_df_modify.loc[row, 'Weight (kg)'] > (maximum):\n",
    "        samples_df_modify.drop(row, inplace=True)\n",
    "\n",
    "```"
   ]
  },
  {
   "attachments": {},
   "cell_type": "markdown",
   "metadata": {},
   "source": [
    "Remove Outlier of Pristine% if _Pristine > 100_:"
   ]
  },
  {
   "cell_type": "code",
   "execution_count": 21,
   "metadata": {},
   "outputs": [
    {
     "name": "stdout",
     "output_type": "stream",
     "text": [
      "Length of (Pristines > 100): 18\n",
      "Maximum Pristine: 180.0\n",
      "\n",
      "Pristines > 100:\n",
      "\n",
      "50      112.50\n",
      "82      100.08\n",
      "91      163.41\n",
      "123     107.11\n",
      "279     100.58\n",
      "294     129.14\n",
      "365     106.11\n",
      "424     180.00\n",
      "438     100.24\n",
      "465     106.50\n",
      "581     100.73\n",
      "697     116.25\n",
      "698     117.22\n",
      "699     100.43\n",
      "847     102.10\n",
      "1440    103.60\n",
      "1529    101.73\n",
      "1853    100.20\n",
      "Name: Pristine (%), dtype: float64\n"
     ]
    }
   ],
   "source": [
    "print('Length of (Pristines > 100):' ,len(samples_df_modify['Pristine (%)'][samples_df_modify['Pristine (%)'] > 100]))\n",
    "print('Maximum Pristine:' ,samples_df_modify['Pristine (%)'].max())\n",
    "\n",
    "print('\\nPristines > 100:\\n')\n",
    "print(samples_df_modify['Pristine (%)'][samples_df_modify['Pristine (%)'] > 100])"
   ]
  },
  {
   "attachments": {},
   "cell_type": "markdown",
   "metadata": {},
   "source": [
    "Removing:"
   ]
  },
  {
   "cell_type": "code",
   "execution_count": 22,
   "metadata": {},
   "outputs": [],
   "source": [
    "for row in samples_df_modify.index:\n",
    "    if samples_df_modify.loc[row, 'Pristine (%)'] > 100:\n",
    "        samples_df_modify.drop(row, inplace=True)"
   ]
  },
  {
   "cell_type": "code",
   "execution_count": 23,
   "metadata": {},
   "outputs": [
    {
     "data": {
      "image/png": "[encoded data removed]",
      "text/plain": [
       "<Figure size 1200x400 with 1 Axes>"
      ]
     },
     "metadata": {},
     "output_type": "display_data"
    }
   ],
   "source": [
    "plt.figure(figsize=(12, 4))\n",
    "sns.boxplot(x=samples_df_modify['Pristine (%)'])\n",
    "\n",
    "plt.title('Pristine BoxPlot After removing outlier (Pristine > 100)')\n",
    "plt.show()"
   ]
  },
  {
   "cell_type": "code",
   "execution_count": 24,
   "metadata": {},
   "outputs": [
    {
     "name": "stdout",
     "output_type": "stream",
     "text": [
      "<class 'pandas.core.frame.DataFrame'>\n",
      "Int64Index: 2208 entries, 0 to 2228\n",
      "Data columns (total 6 columns):\n",
      " #   Column        Non-Null Count  Dtype  \n",
      "---  ------        --------------  -----  \n",
      " 0   ID            2208 non-null   int64  \n",
      " 1   Mission       2208 non-null   object \n",
      " 2   Type          2208 non-null   object \n",
      " 3   Subtype       2208 non-null   object \n",
      " 4   Weight (kg)   2208 non-null   float64\n",
      " 5   Pristine (%)  2208 non-null   float64\n",
      "dtypes: float64(2), int64(1), object(3)\n",
      "memory usage: 185.3+ KB\n"
     ]
    }
   ],
   "source": [
    "samples_df_modify.info()"
   ]
  },
  {
   "cell_type": "markdown",
   "metadata": {},
   "source": [
    "## <a id='toc1_3_'></a>[03: Data Analysis](#toc0_)"
   ]
  },
  {
   "attachments": {},
   "cell_type": "markdown",
   "metadata": {},
   "source": [
    "Create a DataFrame with a new structure to store the analysis results:"
   ]
  },
  {
   "cell_type": "code",
   "execution_count": 25,
   "metadata": {},
   "outputs": [
    {
     "data": {
      "text/html": [
       "<div>\n",
       "<style scoped>\n",
       "    .dataframe tbody tr th:only-of-type {\n",
       "        vertical-align: middle;\n",
       "    }\n",
       "\n",
       "    .dataframe tbody tr th {\n",
       "        vertical-align: top;\n",
       "    }\n",
       "\n",
       "    .dataframe thead th {\n",
       "        text-align: right;\n",
       "    }\n",
       "</style>\n",
       "<table border=\"1\" class=\"dataframe\">\n",
       "  <thead>\n",
       "    <tr style=\"text-align: right;\">\n",
       "      <th></th>\n",
       "    </tr>\n",
       "  </thead>\n",
       "  <tbody>\n",
       "  </tbody>\n",
       "</table>\n",
       "</div>"
      ],
      "text/plain": [
       "Empty DataFrame\n",
       "Columns: []\n",
       "Index: []"
      ]
     },
     "execution_count": 25,
     "metadata": {},
     "output_type": "execute_result"
    }
   ],
   "source": [
    "missions = pd.DataFrame()\n",
    "missions"
   ]
  },
  {
   "attachments": {},
   "cell_type": "markdown",
   "metadata": {},
   "source": [
    "Extract unique values:"
   ]
  },
  {
   "cell_type": "code",
   "execution_count": 26,
   "metadata": {},
   "outputs": [
    {
     "data": {
      "text/html": [
       "<div>\n",
       "<style scoped>\n",
       "    .dataframe tbody tr th:only-of-type {\n",
       "        vertical-align: middle;\n",
       "    }\n",
       "\n",
       "    .dataframe tbody tr th {\n",
       "        vertical-align: top;\n",
       "    }\n",
       "\n",
       "    .dataframe thead th {\n",
       "        text-align: right;\n",
       "    }\n",
       "</style>\n",
       "<table border=\"1\" class=\"dataframe\">\n",
       "  <thead>\n",
       "    <tr style=\"text-align: right;\">\n",
       "      <th></th>\n",
       "      <th>Mission</th>\n",
       "    </tr>\n",
       "  </thead>\n",
       "  <tbody>\n",
       "    <tr>\n",
       "      <th>0</th>\n",
       "      <td>Apollo11</td>\n",
       "    </tr>\n",
       "    <tr>\n",
       "      <th>1</th>\n",
       "      <td>Apollo12</td>\n",
       "    </tr>\n",
       "    <tr>\n",
       "      <th>2</th>\n",
       "      <td>Apollo14</td>\n",
       "    </tr>\n",
       "    <tr>\n",
       "      <th>3</th>\n",
       "      <td>Apollo15</td>\n",
       "    </tr>\n",
       "    <tr>\n",
       "      <th>4</th>\n",
       "      <td>Apollo16</td>\n",
       "    </tr>\n",
       "    <tr>\n",
       "      <th>5</th>\n",
       "      <td>Apollo17</td>\n",
       "    </tr>\n",
       "  </tbody>\n",
       "</table>\n",
       "</div>"
      ],
      "text/plain": [
       "    Mission\n",
       "0  Apollo11\n",
       "1  Apollo12\n",
       "2  Apollo14\n",
       "3  Apollo15\n",
       "4  Apollo16\n",
       "5  Apollo17"
      ]
     },
     "execution_count": 26,
     "metadata": {},
     "output_type": "execute_result"
    }
   ],
   "source": [
    "missions['Mission'] = samples_df_modify['Mission'].unique()\n",
    "missions"
   ]
  },
  {
   "attachments": {},
   "cell_type": "markdown",
   "metadata": {},
   "source": [
    "Calculate the Sum of the _Weight column_ based on the _group by Missions_:"
   ]
  },
  {
   "cell_type": "code",
   "execution_count": 27,
   "metadata": {},
   "outputs": [
    {
     "data": {
      "text/plain": [
       "Mission\n",
       "Apollo11     21.49408\n",
       "Apollo12     31.82968\n",
       "Apollo14     41.24569\n",
       "Apollo15     74.95400\n",
       "Apollo16     92.46112\n",
       "Apollo17    109.31729\n",
       "Name: Weight (kg), dtype: float64"
      ]
     },
     "execution_count": 27,
     "metadata": {},
     "output_type": "execute_result"
    }
   ],
   "source": [
    "total_sampels_weight = samples_df_modify.groupby('Mission')['Weight (kg)'].sum()\n",
    "total_sampels_weight  # is Series"
   ]
  },
  {
   "attachments": {},
   "cell_type": "markdown",
   "metadata": {},
   "source": [
    "Merge `total_sampels_weight` and `mission`:"
   ]
  },
  {
   "cell_type": "code",
   "execution_count": 28,
   "metadata": {},
   "outputs": [
    {
     "data": {
      "text/html": [
       "<div>\n",
       "<style scoped>\n",
       "    .dataframe tbody tr th:only-of-type {\n",
       "        vertical-align: middle;\n",
       "    }\n",
       "\n",
       "    .dataframe tbody tr th {\n",
       "        vertical-align: top;\n",
       "    }\n",
       "\n",
       "    .dataframe thead th {\n",
       "        text-align: right;\n",
       "    }\n",
       "</style>\n",
       "<table border=\"1\" class=\"dataframe\">\n",
       "  <thead>\n",
       "    <tr style=\"text-align: right;\">\n",
       "      <th></th>\n",
       "      <th>Mission</th>\n",
       "      <th>Total weight of Samples (kg)</th>\n",
       "    </tr>\n",
       "  </thead>\n",
       "  <tbody>\n",
       "    <tr>\n",
       "      <th>0</th>\n",
       "      <td>Apollo11</td>\n",
       "      <td>21.49408</td>\n",
       "    </tr>\n",
       "    <tr>\n",
       "      <th>1</th>\n",
       "      <td>Apollo12</td>\n",
       "      <td>31.82968</td>\n",
       "    </tr>\n",
       "    <tr>\n",
       "      <th>2</th>\n",
       "      <td>Apollo14</td>\n",
       "      <td>41.24569</td>\n",
       "    </tr>\n",
       "    <tr>\n",
       "      <th>3</th>\n",
       "      <td>Apollo15</td>\n",
       "      <td>74.95400</td>\n",
       "    </tr>\n",
       "    <tr>\n",
       "      <th>4</th>\n",
       "      <td>Apollo16</td>\n",
       "      <td>92.46112</td>\n",
       "    </tr>\n",
       "    <tr>\n",
       "      <th>5</th>\n",
       "      <td>Apollo17</td>\n",
       "      <td>109.31729</td>\n",
       "    </tr>\n",
       "  </tbody>\n",
       "</table>\n",
       "</div>"
      ],
      "text/plain": [
       "    Mission  Total weight of Samples (kg)\n",
       "0  Apollo11                      21.49408\n",
       "1  Apollo12                      31.82968\n",
       "2  Apollo14                      41.24569\n",
       "3  Apollo15                      74.95400\n",
       "4  Apollo16                      92.46112\n",
       "5  Apollo17                     109.31729"
      ]
     },
     "execution_count": 28,
     "metadata": {},
     "output_type": "execute_result"
    }
   ],
   "source": [
    "missions = pd.merge(left=missions, right=total_sampels_weight, on='Mission')\n",
    "missions.rename(columns={'Weight (kg)' : 'Total weight of Samples (kg)'}, inplace=True)\n",
    "\n",
    "missions"
   ]
  },
  {
   "cell_type": "code",
   "execution_count": 29,
   "metadata": {},
   "outputs": [
    {
     "data": {
      "image/png": "[encoded data removed]",
      "text/plain": [
       "<Figure size 800x550 with 1 Axes>"
      ]
     },
     "metadata": {},
     "output_type": "display_data"
    }
   ],
   "source": [
    "plt.scatter(missions['Mission'], missions['Total weight of Samples (kg)'])\n",
    "\n",
    "plt.xlabel('Mission', fontsize=15)\n",
    "plt.ylabel('Total weight of Samples (kg)', fontsize=15)\n",
    "plt.show()"
   ]
  },
  {
   "attachments": {},
   "cell_type": "markdown",
   "metadata": {},
   "source": [
    "Caculate the difference of weight data from previous weight for find more information; with `diff()` function:"
   ]
  },
  {
   "cell_type": "code",
   "execution_count": 30,
   "metadata": {},
   "outputs": [
    {
     "data": {
      "text/html": [
       "<div>\n",
       "<style scoped>\n",
       "    .dataframe tbody tr th:only-of-type {\n",
       "        vertical-align: middle;\n",
       "    }\n",
       "\n",
       "    .dataframe tbody tr th {\n",
       "        vertical-align: top;\n",
       "    }\n",
       "\n",
       "    .dataframe thead th {\n",
       "        text-align: right;\n",
       "    }\n",
       "</style>\n",
       "<table border=\"1\" class=\"dataframe\">\n",
       "  <thead>\n",
       "    <tr style=\"text-align: right;\">\n",
       "      <th></th>\n",
       "      <th>Mission</th>\n",
       "      <th>Total weight of Samples (kg)</th>\n",
       "      <th>Weight Diff</th>\n",
       "    </tr>\n",
       "  </thead>\n",
       "  <tbody>\n",
       "    <tr>\n",
       "      <th>0</th>\n",
       "      <td>Apollo11</td>\n",
       "      <td>21.49408</td>\n",
       "      <td>NaN</td>\n",
       "    </tr>\n",
       "    <tr>\n",
       "      <th>1</th>\n",
       "      <td>Apollo12</td>\n",
       "      <td>31.82968</td>\n",
       "      <td>10.33560</td>\n",
       "    </tr>\n",
       "    <tr>\n",
       "      <th>2</th>\n",
       "      <td>Apollo14</td>\n",
       "      <td>41.24569</td>\n",
       "      <td>9.41601</td>\n",
       "    </tr>\n",
       "    <tr>\n",
       "      <th>3</th>\n",
       "      <td>Apollo15</td>\n",
       "      <td>74.95400</td>\n",
       "      <td>33.70831</td>\n",
       "    </tr>\n",
       "    <tr>\n",
       "      <th>4</th>\n",
       "      <td>Apollo16</td>\n",
       "      <td>92.46112</td>\n",
       "      <td>17.50712</td>\n",
       "    </tr>\n",
       "    <tr>\n",
       "      <th>5</th>\n",
       "      <td>Apollo17</td>\n",
       "      <td>109.31729</td>\n",
       "      <td>16.85617</td>\n",
       "    </tr>\n",
       "  </tbody>\n",
       "</table>\n",
       "</div>"
      ],
      "text/plain": [
       "    Mission  Total weight of Samples (kg)  Weight Diff\n",
       "0  Apollo11                      21.49408          NaN\n",
       "1  Apollo12                      31.82968     10.33560\n",
       "2  Apollo14                      41.24569      9.41601\n",
       "3  Apollo15                      74.95400     33.70831\n",
       "4  Apollo16                      92.46112     17.50712\n",
       "5  Apollo17                     109.31729     16.85617"
      ]
     },
     "execution_count": 30,
     "metadata": {},
     "output_type": "execute_result"
    }
   ],
   "source": [
    "missions['Weight Diff'] = missions['Total weight of Samples (kg)'].diff()\n",
    "\n",
    "missions"
   ]
  },
  {
   "attachments": {},
   "cell_type": "markdown",
   "metadata": {},
   "source": [
    "Fill NaN value with 0:"
   ]
  },
  {
   "cell_type": "code",
   "execution_count": 31,
   "metadata": {},
   "outputs": [
    {
     "data": {
      "text/html": [
       "<div>\n",
       "<style scoped>\n",
       "    .dataframe tbody tr th:only-of-type {\n",
       "        vertical-align: middle;\n",
       "    }\n",
       "\n",
       "    .dataframe tbody tr th {\n",
       "        vertical-align: top;\n",
       "    }\n",
       "\n",
       "    .dataframe thead th {\n",
       "        text-align: right;\n",
       "    }\n",
       "</style>\n",
       "<table border=\"1\" class=\"dataframe\">\n",
       "  <thead>\n",
       "    <tr style=\"text-align: right;\">\n",
       "      <th></th>\n",
       "      <th>Mission</th>\n",
       "      <th>Total weight of Samples (kg)</th>\n",
       "      <th>Weight Diff</th>\n",
       "    </tr>\n",
       "  </thead>\n",
       "  <tbody>\n",
       "    <tr>\n",
       "      <th>0</th>\n",
       "      <td>Apollo11</td>\n",
       "      <td>21.49408</td>\n",
       "      <td>0.00000</td>\n",
       "    </tr>\n",
       "    <tr>\n",
       "      <th>1</th>\n",
       "      <td>Apollo12</td>\n",
       "      <td>31.82968</td>\n",
       "      <td>10.33560</td>\n",
       "    </tr>\n",
       "    <tr>\n",
       "      <th>2</th>\n",
       "      <td>Apollo14</td>\n",
       "      <td>41.24569</td>\n",
       "      <td>9.41601</td>\n",
       "    </tr>\n",
       "    <tr>\n",
       "      <th>3</th>\n",
       "      <td>Apollo15</td>\n",
       "      <td>74.95400</td>\n",
       "      <td>33.70831</td>\n",
       "    </tr>\n",
       "    <tr>\n",
       "      <th>4</th>\n",
       "      <td>Apollo16</td>\n",
       "      <td>92.46112</td>\n",
       "      <td>17.50712</td>\n",
       "    </tr>\n",
       "    <tr>\n",
       "      <th>5</th>\n",
       "      <td>Apollo17</td>\n",
       "      <td>109.31729</td>\n",
       "      <td>16.85617</td>\n",
       "    </tr>\n",
       "  </tbody>\n",
       "</table>\n",
       "</div>"
      ],
      "text/plain": [
       "    Mission  Total weight of Samples (kg)  Weight Diff\n",
       "0  Apollo11                      21.49408      0.00000\n",
       "1  Apollo12                      31.82968     10.33560\n",
       "2  Apollo14                      41.24569      9.41601\n",
       "3  Apollo15                      74.95400     33.70831\n",
       "4  Apollo16                      92.46112     17.50712\n",
       "5  Apollo17                     109.31729     16.85617"
      ]
     },
     "execution_count": 31,
     "metadata": {},
     "output_type": "execute_result"
    }
   ],
   "source": [
    "missions['Weight Diff'] = missions['Weight Diff'].fillna(value=0)\n",
    "\n",
    "missions"
   ]
  },
  {
   "cell_type": "code",
   "execution_count": 32,
   "metadata": {},
   "outputs": [
    {
     "data": {
      "image/png": "[encoded data removed]",
      "text/plain": [
       "<Figure size 800x550 with 1 Axes>"
      ]
     },
     "metadata": {},
     "output_type": "display_data"
    }
   ],
   "source": [
    "plt.scatter(missions['Mission'], missions['Weight Diff'])\n",
    "\n",
    "plt.xlabel('Mission', fontsize=15)\n",
    "plt.ylabel('Weight Diff', fontsize=15)\n",
    "plt.show()"
   ]
  },
  {
   "attachments": {},
   "cell_type": "markdown",
   "metadata": {},
   "source": [
    "Add _Lunar module_ and _Command module_ Columns\n",
    "\n",
    "Read more:\n",
    "- [مهندسی بی‌نهایت: ساترن 5، پیش به سوی ماه  _(Zoomit.ir)_](https://www.zoomit.ir/fundamental-science/269918-infinite-engineering-saturn-v/)\n",
    "- in [Nasa Archive _(Nasa.gov)_](https://nssdc.gsfc.nasa.gov/nmc/spacecraft/query) print Name: apollo.\n"
   ]
  },
  {
   "cell_type": "code",
   "execution_count": 33,
   "metadata": {},
   "outputs": [],
   "source": [
    "LMs = ['Eagle (LM-5)', 'Intrepid (LM-6)', 'Antares (LM-8)', 'Falcon (LM-10)', 'Orion (LM-11)', 'Challenger (LM-12)']\n",
    "missions['Lunar moduls (LM)'] = LMs\n",
    "\n",
    "missions['LM mass (kg)'] = [15103, 15235, 15264, 16430, 16445, 16456]\n",
    "missions['LM mass diff'] = missions['LM mass (kg)'].diff()\n",
    "missions['LM mass diff'] = missions['LM mass diff'].fillna(value=0)"
   ]
  },
  {
   "cell_type": "code",
   "execution_count": 34,
   "metadata": {},
   "outputs": [],
   "source": [
    "CMs = ['Columbia (CSM-107)', 'Yankee Clipper (CM-108)', 'Kitty Hawk (CM-110)', 'Endeavor (CM-112)', 'Casper (CM-113)', 'America (CM-114)']\n",
    "missions['Command module (CM)'] = CMs\n",
    "\n",
    "missions['CM mass (kg)'] = [5560, 5609, 5758, 5875, 5840, 5960]\n",
    "missions['CM mass diff'] = missions['CM mass (kg)'].diff()\n",
    "missions['CM mass diff'] = missions['CM mass diff'].fillna(value=0)\n"
   ]
  },
  {
   "cell_type": "code",
   "execution_count": 35,
   "metadata": {},
   "outputs": [
    {
     "data": {
      "text/html": [
       "<div>\n",
       "<style scoped>\n",
       "    .dataframe tbody tr th:only-of-type {\n",
       "        vertical-align: middle;\n",
       "    }\n",
       "\n",
       "    .dataframe tbody tr th {\n",
       "        vertical-align: top;\n",
       "    }\n",
       "\n",
       "    .dataframe thead th {\n",
       "        text-align: right;\n",
       "    }\n",
       "</style>\n",
       "<table border=\"1\" class=\"dataframe\">\n",
       "  <thead>\n",
       "    <tr style=\"text-align: right;\">\n",
       "      <th></th>\n",
       "      <th>Mission</th>\n",
       "      <th>Total weight of Samples (kg)</th>\n",
       "      <th>Weight Diff</th>\n",
       "      <th>Lunar moduls (LM)</th>\n",
       "      <th>LM mass (kg)</th>\n",
       "      <th>LM mass diff</th>\n",
       "      <th>Command module (CM)</th>\n",
       "      <th>CM mass (kg)</th>\n",
       "      <th>CM mass diff</th>\n",
       "    </tr>\n",
       "  </thead>\n",
       "  <tbody>\n",
       "    <tr>\n",
       "      <th>0</th>\n",
       "      <td>Apollo11</td>\n",
       "      <td>21.49408</td>\n",
       "      <td>0.00000</td>\n",
       "      <td>Eagle (LM-5)</td>\n",
       "      <td>15103</td>\n",
       "      <td>0.0</td>\n",
       "      <td>Columbia (CSM-107)</td>\n",
       "      <td>5560</td>\n",
       "      <td>0.0</td>\n",
       "    </tr>\n",
       "    <tr>\n",
       "      <th>1</th>\n",
       "      <td>Apollo12</td>\n",
       "      <td>31.82968</td>\n",
       "      <td>10.33560</td>\n",
       "      <td>Intrepid (LM-6)</td>\n",
       "      <td>15235</td>\n",
       "      <td>132.0</td>\n",
       "      <td>Yankee Clipper (CM-108)</td>\n",
       "      <td>5609</td>\n",
       "      <td>49.0</td>\n",
       "    </tr>\n",
       "    <tr>\n",
       "      <th>2</th>\n",
       "      <td>Apollo14</td>\n",
       "      <td>41.24569</td>\n",
       "      <td>9.41601</td>\n",
       "      <td>Antares (LM-8)</td>\n",
       "      <td>15264</td>\n",
       "      <td>29.0</td>\n",
       "      <td>Kitty Hawk (CM-110)</td>\n",
       "      <td>5758</td>\n",
       "      <td>149.0</td>\n",
       "    </tr>\n",
       "    <tr>\n",
       "      <th>3</th>\n",
       "      <td>Apollo15</td>\n",
       "      <td>74.95400</td>\n",
       "      <td>33.70831</td>\n",
       "      <td>Falcon (LM-10)</td>\n",
       "      <td>16430</td>\n",
       "      <td>1166.0</td>\n",
       "      <td>Endeavor (CM-112)</td>\n",
       "      <td>5875</td>\n",
       "      <td>117.0</td>\n",
       "    </tr>\n",
       "    <tr>\n",
       "      <th>4</th>\n",
       "      <td>Apollo16</td>\n",
       "      <td>92.46112</td>\n",
       "      <td>17.50712</td>\n",
       "      <td>Orion (LM-11)</td>\n",
       "      <td>16445</td>\n",
       "      <td>15.0</td>\n",
       "      <td>Casper (CM-113)</td>\n",
       "      <td>5840</td>\n",
       "      <td>-35.0</td>\n",
       "    </tr>\n",
       "    <tr>\n",
       "      <th>5</th>\n",
       "      <td>Apollo17</td>\n",
       "      <td>109.31729</td>\n",
       "      <td>16.85617</td>\n",
       "      <td>Challenger (LM-12)</td>\n",
       "      <td>16456</td>\n",
       "      <td>11.0</td>\n",
       "      <td>America (CM-114)</td>\n",
       "      <td>5960</td>\n",
       "      <td>120.0</td>\n",
       "    </tr>\n",
       "  </tbody>\n",
       "</table>\n",
       "</div>"
      ],
      "text/plain": [
       "    Mission  Total weight of Samples (kg)  Weight Diff   Lunar moduls (LM)  \\\n",
       "0  Apollo11                      21.49408      0.00000        Eagle (LM-5)   \n",
       "1  Apollo12                      31.82968     10.33560     Intrepid (LM-6)   \n",
       "2  Apollo14                      41.24569      9.41601      Antares (LM-8)   \n",
       "3  Apollo15                      74.95400     33.70831      Falcon (LM-10)   \n",
       "4  Apollo16                      92.46112     17.50712       Orion (LM-11)   \n",
       "5  Apollo17                     109.31729     16.85617  Challenger (LM-12)   \n",
       "\n",
       "   LM mass (kg)  LM mass diff      Command module (CM)  CM mass (kg)  \\\n",
       "0         15103           0.0       Columbia (CSM-107)          5560   \n",
       "1         15235         132.0  Yankee Clipper (CM-108)          5609   \n",
       "2         15264          29.0      Kitty Hawk (CM-110)          5758   \n",
       "3         16430        1166.0        Endeavor (CM-112)          5875   \n",
       "4         16445          15.0          Casper (CM-113)          5840   \n",
       "5         16456          11.0         America (CM-114)          5960   \n",
       "\n",
       "   CM mass diff  \n",
       "0           0.0  \n",
       "1          49.0  \n",
       "2         149.0  \n",
       "3         117.0  \n",
       "4         -35.0  \n",
       "5         120.0  "
      ]
     },
     "execution_count": 35,
     "metadata": {},
     "output_type": "execute_result"
    }
   ],
   "source": [
    "missions"
   ]
  },
  {
   "attachments": {},
   "cell_type": "markdown",
   "metadata": {},
   "source": [
    "Calculate the Sum of the _CM mass (kg)_ and _CM mass (kg)_ and Calculate this result Difference:"
   ]
  },
  {
   "cell_type": "code",
   "execution_count": 36,
   "metadata": {},
   "outputs": [
    {
     "data": {
      "text/html": [
       "<div>\n",
       "<style scoped>\n",
       "    .dataframe tbody tr th:only-of-type {\n",
       "        vertical-align: middle;\n",
       "    }\n",
       "\n",
       "    .dataframe tbody tr th {\n",
       "        vertical-align: top;\n",
       "    }\n",
       "\n",
       "    .dataframe thead th {\n",
       "        text-align: right;\n",
       "    }\n",
       "</style>\n",
       "<table border=\"1\" class=\"dataframe\">\n",
       "  <thead>\n",
       "    <tr style=\"text-align: right;\">\n",
       "      <th></th>\n",
       "      <th>Mission</th>\n",
       "      <th>Total weight of Samples (kg)</th>\n",
       "      <th>Weight Diff</th>\n",
       "      <th>Lunar moduls (LM)</th>\n",
       "      <th>LM mass (kg)</th>\n",
       "      <th>LM mass diff</th>\n",
       "      <th>Command module (CM)</th>\n",
       "      <th>CM mass (kg)</th>\n",
       "      <th>CM mass diff</th>\n",
       "      <th>Total weight (kg)</th>\n",
       "      <th>Total weight diff</th>\n",
       "    </tr>\n",
       "  </thead>\n",
       "  <tbody>\n",
       "    <tr>\n",
       "      <th>0</th>\n",
       "      <td>Apollo11</td>\n",
       "      <td>21.49408</td>\n",
       "      <td>0.00000</td>\n",
       "      <td>Eagle (LM-5)</td>\n",
       "      <td>15103</td>\n",
       "      <td>0.0</td>\n",
       "      <td>Columbia (CSM-107)</td>\n",
       "      <td>5560</td>\n",
       "      <td>0.0</td>\n",
       "      <td>20663</td>\n",
       "      <td>0.0</td>\n",
       "    </tr>\n",
       "    <tr>\n",
       "      <th>1</th>\n",
       "      <td>Apollo12</td>\n",
       "      <td>31.82968</td>\n",
       "      <td>10.33560</td>\n",
       "      <td>Intrepid (LM-6)</td>\n",
       "      <td>15235</td>\n",
       "      <td>132.0</td>\n",
       "      <td>Yankee Clipper (CM-108)</td>\n",
       "      <td>5609</td>\n",
       "      <td>49.0</td>\n",
       "      <td>20844</td>\n",
       "      <td>181.0</td>\n",
       "    </tr>\n",
       "    <tr>\n",
       "      <th>2</th>\n",
       "      <td>Apollo14</td>\n",
       "      <td>41.24569</td>\n",
       "      <td>9.41601</td>\n",
       "      <td>Antares (LM-8)</td>\n",
       "      <td>15264</td>\n",
       "      <td>29.0</td>\n",
       "      <td>Kitty Hawk (CM-110)</td>\n",
       "      <td>5758</td>\n",
       "      <td>149.0</td>\n",
       "      <td>21022</td>\n",
       "      <td>178.0</td>\n",
       "    </tr>\n",
       "    <tr>\n",
       "      <th>3</th>\n",
       "      <td>Apollo15</td>\n",
       "      <td>74.95400</td>\n",
       "      <td>33.70831</td>\n",
       "      <td>Falcon (LM-10)</td>\n",
       "      <td>16430</td>\n",
       "      <td>1166.0</td>\n",
       "      <td>Endeavor (CM-112)</td>\n",
       "      <td>5875</td>\n",
       "      <td>117.0</td>\n",
       "      <td>22305</td>\n",
       "      <td>1283.0</td>\n",
       "    </tr>\n",
       "    <tr>\n",
       "      <th>4</th>\n",
       "      <td>Apollo16</td>\n",
       "      <td>92.46112</td>\n",
       "      <td>17.50712</td>\n",
       "      <td>Orion (LM-11)</td>\n",
       "      <td>16445</td>\n",
       "      <td>15.0</td>\n",
       "      <td>Casper (CM-113)</td>\n",
       "      <td>5840</td>\n",
       "      <td>-35.0</td>\n",
       "      <td>22285</td>\n",
       "      <td>-20.0</td>\n",
       "    </tr>\n",
       "    <tr>\n",
       "      <th>5</th>\n",
       "      <td>Apollo17</td>\n",
       "      <td>109.31729</td>\n",
       "      <td>16.85617</td>\n",
       "      <td>Challenger (LM-12)</td>\n",
       "      <td>16456</td>\n",
       "      <td>11.0</td>\n",
       "      <td>America (CM-114)</td>\n",
       "      <td>5960</td>\n",
       "      <td>120.0</td>\n",
       "      <td>22416</td>\n",
       "      <td>131.0</td>\n",
       "    </tr>\n",
       "  </tbody>\n",
       "</table>\n",
       "</div>"
      ],
      "text/plain": [
       "    Mission  Total weight of Samples (kg)  Weight Diff   Lunar moduls (LM)  \\\n",
       "0  Apollo11                      21.49408      0.00000        Eagle (LM-5)   \n",
       "1  Apollo12                      31.82968     10.33560     Intrepid (LM-6)   \n",
       "2  Apollo14                      41.24569      9.41601      Antares (LM-8)   \n",
       "3  Apollo15                      74.95400     33.70831      Falcon (LM-10)   \n",
       "4  Apollo16                      92.46112     17.50712       Orion (LM-11)   \n",
       "5  Apollo17                     109.31729     16.85617  Challenger (LM-12)   \n",
       "\n",
       "   LM mass (kg)  LM mass diff      Command module (CM)  CM mass (kg)  \\\n",
       "0         15103           0.0       Columbia (CSM-107)          5560   \n",
       "1         15235         132.0  Yankee Clipper (CM-108)          5609   \n",
       "2         15264          29.0      Kitty Hawk (CM-110)          5758   \n",
       "3         16430        1166.0        Endeavor (CM-112)          5875   \n",
       "4         16445          15.0          Casper (CM-113)          5840   \n",
       "5         16456          11.0         America (CM-114)          5960   \n",
       "\n",
       "   CM mass diff  Total weight (kg)  Total weight diff  \n",
       "0           0.0              20663                0.0  \n",
       "1          49.0              20844              181.0  \n",
       "2         149.0              21022              178.0  \n",
       "3         117.0              22305             1283.0  \n",
       "4         -35.0              22285              -20.0  \n",
       "5         120.0              22416              131.0  "
      ]
     },
     "execution_count": 36,
     "metadata": {},
     "output_type": "execute_result"
    }
   ],
   "source": [
    "missions['Total weight (kg)'] = missions['LM mass (kg)'] + missions['CM mass (kg)']\n",
    "missions['Total weight diff'] = missions['LM mass diff'] + missions['CM mass diff']\n",
    "\n",
    "missions"
   ]
  },
  {
   "attachments": {},
   "cell_type": "markdown",
   "metadata": {},
   "source": [
    "Calculation of _Weight ratios_. An index for predictions:"
   ]
  },
  {
   "cell_type": "code",
   "execution_count": 37,
   "metadata": {},
   "outputs": [
    {
     "data": {
      "text/html": [
       "<div>\n",
       "<style scoped>\n",
       "    .dataframe tbody tr th:only-of-type {\n",
       "        vertical-align: middle;\n",
       "    }\n",
       "\n",
       "    .dataframe tbody tr th {\n",
       "        vertical-align: top;\n",
       "    }\n",
       "\n",
       "    .dataframe thead th {\n",
       "        text-align: right;\n",
       "    }\n",
       "</style>\n",
       "<table border=\"1\" class=\"dataframe\">\n",
       "  <thead>\n",
       "    <tr style=\"text-align: right;\">\n",
       "      <th></th>\n",
       "      <th>Mission</th>\n",
       "      <th>Total weight of Samples (kg)</th>\n",
       "      <th>Weight Diff</th>\n",
       "      <th>Lunar moduls (LM)</th>\n",
       "      <th>LM mass (kg)</th>\n",
       "      <th>LM mass diff</th>\n",
       "      <th>Command module (CM)</th>\n",
       "      <th>CM mass (kg)</th>\n",
       "      <th>CM mass diff</th>\n",
       "      <th>Total weight (kg)</th>\n",
       "      <th>Total weight diff</th>\n",
       "      <th>Crewed area : Payload</th>\n",
       "      <th>Sample : Crewed area</th>\n",
       "      <th>Sample : Payload</th>\n",
       "    </tr>\n",
       "  </thead>\n",
       "  <tbody>\n",
       "    <tr>\n",
       "      <th>0</th>\n",
       "      <td>Apollo11</td>\n",
       "      <td>21.49408</td>\n",
       "      <td>0.00000</td>\n",
       "      <td>Eagle (LM-5)</td>\n",
       "      <td>15103</td>\n",
       "      <td>0.0</td>\n",
       "      <td>Columbia (CSM-107)</td>\n",
       "      <td>5560</td>\n",
       "      <td>0.0</td>\n",
       "      <td>20663</td>\n",
       "      <td>0.0</td>\n",
       "      <td>0.475011</td>\n",
       "      <td>0.001040</td>\n",
       "      <td>0.000494</td>\n",
       "    </tr>\n",
       "    <tr>\n",
       "      <th>1</th>\n",
       "      <td>Apollo12</td>\n",
       "      <td>31.82968</td>\n",
       "      <td>10.33560</td>\n",
       "      <td>Intrepid (LM-6)</td>\n",
       "      <td>15235</td>\n",
       "      <td>132.0</td>\n",
       "      <td>Yankee Clipper (CM-108)</td>\n",
       "      <td>5609</td>\n",
       "      <td>49.0</td>\n",
       "      <td>20844</td>\n",
       "      <td>181.0</td>\n",
       "      <td>0.479172</td>\n",
       "      <td>0.001527</td>\n",
       "      <td>0.000732</td>\n",
       "    </tr>\n",
       "    <tr>\n",
       "      <th>2</th>\n",
       "      <td>Apollo14</td>\n",
       "      <td>41.24569</td>\n",
       "      <td>9.41601</td>\n",
       "      <td>Antares (LM-8)</td>\n",
       "      <td>15264</td>\n",
       "      <td>29.0</td>\n",
       "      <td>Kitty Hawk (CM-110)</td>\n",
       "      <td>5758</td>\n",
       "      <td>149.0</td>\n",
       "      <td>21022</td>\n",
       "      <td>178.0</td>\n",
       "      <td>0.483264</td>\n",
       "      <td>0.001962</td>\n",
       "      <td>0.000948</td>\n",
       "    </tr>\n",
       "    <tr>\n",
       "      <th>3</th>\n",
       "      <td>Apollo15</td>\n",
       "      <td>74.95400</td>\n",
       "      <td>33.70831</td>\n",
       "      <td>Falcon (LM-10)</td>\n",
       "      <td>16430</td>\n",
       "      <td>1166.0</td>\n",
       "      <td>Endeavor (CM-112)</td>\n",
       "      <td>5875</td>\n",
       "      <td>117.0</td>\n",
       "      <td>22305</td>\n",
       "      <td>1283.0</td>\n",
       "      <td>0.512759</td>\n",
       "      <td>0.003360</td>\n",
       "      <td>0.001723</td>\n",
       "    </tr>\n",
       "    <tr>\n",
       "      <th>4</th>\n",
       "      <td>Apollo16</td>\n",
       "      <td>92.46112</td>\n",
       "      <td>17.50712</td>\n",
       "      <td>Orion (LM-11)</td>\n",
       "      <td>16445</td>\n",
       "      <td>15.0</td>\n",
       "      <td>Casper (CM-113)</td>\n",
       "      <td>5840</td>\n",
       "      <td>-35.0</td>\n",
       "      <td>22285</td>\n",
       "      <td>-20.0</td>\n",
       "      <td>0.512299</td>\n",
       "      <td>0.004149</td>\n",
       "      <td>0.002126</td>\n",
       "    </tr>\n",
       "    <tr>\n",
       "      <th>5</th>\n",
       "      <td>Apollo17</td>\n",
       "      <td>109.31729</td>\n",
       "      <td>16.85617</td>\n",
       "      <td>Challenger (LM-12)</td>\n",
       "      <td>16456</td>\n",
       "      <td>11.0</td>\n",
       "      <td>America (CM-114)</td>\n",
       "      <td>5960</td>\n",
       "      <td>120.0</td>\n",
       "      <td>22416</td>\n",
       "      <td>131.0</td>\n",
       "      <td>0.515310</td>\n",
       "      <td>0.004877</td>\n",
       "      <td>0.002513</td>\n",
       "    </tr>\n",
       "  </tbody>\n",
       "</table>\n",
       "</div>"
      ],
      "text/plain": [
       "    Mission  Total weight of Samples (kg)  Weight Diff   Lunar moduls (LM)  \\\n",
       "0  Apollo11                      21.49408      0.00000        Eagle (LM-5)   \n",
       "1  Apollo12                      31.82968     10.33560     Intrepid (LM-6)   \n",
       "2  Apollo14                      41.24569      9.41601      Antares (LM-8)   \n",
       "3  Apollo15                      74.95400     33.70831      Falcon (LM-10)   \n",
       "4  Apollo16                      92.46112     17.50712       Orion (LM-11)   \n",
       "5  Apollo17                     109.31729     16.85617  Challenger (LM-12)   \n",
       "\n",
       "   LM mass (kg)  LM mass diff      Command module (CM)  CM mass (kg)  \\\n",
       "0         15103           0.0       Columbia (CSM-107)          5560   \n",
       "1         15235         132.0  Yankee Clipper (CM-108)          5609   \n",
       "2         15264          29.0      Kitty Hawk (CM-110)          5758   \n",
       "3         16430        1166.0        Endeavor (CM-112)          5875   \n",
       "4         16445          15.0          Casper (CM-113)          5840   \n",
       "5         16456          11.0         America (CM-114)          5960   \n",
       "\n",
       "   CM mass diff  Total weight (kg)  Total weight diff  Crewed area : Payload  \\\n",
       "0           0.0              20663                0.0               0.475011   \n",
       "1          49.0              20844              181.0               0.479172   \n",
       "2         149.0              21022              178.0               0.483264   \n",
       "3         117.0              22305             1283.0               0.512759   \n",
       "4         -35.0              22285              -20.0               0.512299   \n",
       "5         120.0              22416              131.0               0.515310   \n",
       "\n",
       "   Sample : Crewed area  Sample : Payload  \n",
       "0              0.001040          0.000494  \n",
       "1              0.001527          0.000732  \n",
       "2              0.001962          0.000948  \n",
       "3              0.003360          0.001723  \n",
       "4              0.004149          0.002126  \n",
       "5              0.004877          0.002513  "
      ]
     },
     "execution_count": 37,
     "metadata": {},
     "output_type": "execute_result"
    }
   ],
   "source": [
    "saturn_5_Payload = 43500\n",
    "\n",
    "missions['Crewed area : Payload'] = missions['Total weight (kg)'] / saturn_5_Payload\n",
    "missions['Sample : Crewed area'] = missions['Total weight of Samples (kg)'] / missions['Total weight (kg)']\n",
    "missions['Sample : Payload'] = missions['Total weight of Samples (kg)'] / saturn_5_Payload\n",
    "\n",
    "missions"
   ]
  },
  {
   "attachments": {},
   "cell_type": "markdown",
   "metadata": {},
   "source": [
    "Calculation of _Average ratios_. A balanced index:"
   ]
  },
  {
   "cell_type": "code",
   "execution_count": 38,
   "metadata": {},
   "outputs": [
    {
     "name": "stdout",
     "output_type": "stream",
     "text": [
      "CrewedArea payload ratio: 0.4963026819923371\n",
      "Sample crewedArea ratio: 0.002819247186872154\n",
      "Sample payload ratio: 0.001422612490421456\n"
     ]
    }
   ],
   "source": [
    "crewedArea_payload_ratio = missions['Crewed area : Payload'].mean()\n",
    "sample_crewedArea_ratio = missions['Sample : Crewed area'].mean()\n",
    "sample_payload_ratio = missions['Sample : Payload'].mean()\n",
    "\n",
    "print('CrewedArea payload ratio:', crewedArea_payload_ratio)\n",
    "print('Sample crewedArea ratio:', sample_crewedArea_ratio)\n",
    "print('Sample payload ratio:', sample_payload_ratio)"
   ]
  },
  {
   "cell_type": "markdown",
   "metadata": {},
   "source": [
    "## <a id='toc1_4_'></a>[04: Interpretation and prediction](#toc0_)"
   ]
  },
  {
   "attachments": {},
   "cell_type": "markdown",
   "metadata": {},
   "source": [
    "Predicting the weight of samples"
   ]
  },
  {
   "attachments": {},
   "cell_type": "markdown",
   "metadata": {},
   "source": [
    "ایجاد دیتافریم جدید برای ثبت ننتایج پیش بینی"
   ]
  },
  {
   "cell_type": "code",
   "execution_count": 39,
   "metadata": {},
   "outputs": [
    {
     "data": {
      "text/html": [
       "<div>\n",
       "<style scoped>\n",
       "    .dataframe tbody tr th:only-of-type {\n",
       "        vertical-align: middle;\n",
       "    }\n",
       "\n",
       "    .dataframe tbody tr th {\n",
       "        vertical-align: top;\n",
       "    }\n",
       "\n",
       "    .dataframe thead th {\n",
       "        text-align: right;\n",
       "    }\n",
       "</style>\n",
       "<table border=\"1\" class=\"dataframe\">\n",
       "  <thead>\n",
       "    <tr style=\"text-align: right;\">\n",
       "      <th></th>\n",
       "      <th>Mission</th>\n",
       "      <th>Payload (kg)</th>\n",
       "      <th>Total weight (kg)</th>\n",
       "    </tr>\n",
       "  </thead>\n",
       "  <tbody>\n",
       "    <tr>\n",
       "      <th>0</th>\n",
       "      <td>artemis1</td>\n",
       "      <td>26988</td>\n",
       "      <td>13394.216782</td>\n",
       "    </tr>\n",
       "    <tr>\n",
       "      <th>1</th>\n",
       "      <td>artemis1b</td>\n",
       "      <td>37965</td>\n",
       "      <td>18842.131322</td>\n",
       "    </tr>\n",
       "    <tr>\n",
       "      <th>2</th>\n",
       "      <td>artemis2</td>\n",
       "      <td>42955</td>\n",
       "      <td>21318.681705</td>\n",
       "    </tr>\n",
       "  </tbody>\n",
       "</table>\n",
       "</div>"
      ],
      "text/plain": [
       "     Mission  Payload (kg)  Total weight (kg)\n",
       "0   artemis1         26988       13394.216782\n",
       "1  artemis1b         37965       18842.131322\n",
       "2   artemis2         42955       21318.681705"
      ]
     },
     "execution_count": 39,
     "metadata": {},
     "output_type": "execute_result"
    }
   ],
   "source": [
    "artemis_mission = pd.DataFrame({'Mission':['artemis1', 'artemis1b', 'artemis2'], 'Payload (kg)': [26988, 37965, 42955]})\n",
    "artemis_mission['Total weight (kg)'] = artemis_mission['Payload (kg)'] * crewedArea_payload_ratio\n",
    "\n",
    "artemis_mission"
   ]
  },
  {
   "attachments": {},
   "cell_type": "markdown",
   "metadata": {},
   "source": [
    "تفسیر وزن نمونه برداری از روی داده های جدید"
   ]
  },
  {
   "cell_type": "code",
   "execution_count": 40,
   "metadata": {},
   "outputs": [
    {
     "data": {
      "text/html": [
       "<div>\n",
       "<style scoped>\n",
       "    .dataframe tbody tr th:only-of-type {\n",
       "        vertical-align: middle;\n",
       "    }\n",
       "\n",
       "    .dataframe tbody tr th {\n",
       "        vertical-align: top;\n",
       "    }\n",
       "\n",
       "    .dataframe thead th {\n",
       "        text-align: right;\n",
       "    }\n",
       "</style>\n",
       "<table border=\"1\" class=\"dataframe\">\n",
       "  <thead>\n",
       "    <tr style=\"text-align: right;\">\n",
       "      <th></th>\n",
       "      <th>Mission</th>\n",
       "      <th>Payload (kg)</th>\n",
       "      <th>Total weight (kg)</th>\n",
       "      <th>Sample weight from total (kg)</th>\n",
       "      <th>Sample weight from payload (kg)</th>\n",
       "    </tr>\n",
       "  </thead>\n",
       "  <tbody>\n",
       "    <tr>\n",
       "      <th>0</th>\n",
       "      <td>artemis1</td>\n",
       "      <td>26988</td>\n",
       "      <td>13394.216782</td>\n",
       "      <td>37.761608</td>\n",
       "      <td>38.393466</td>\n",
       "    </tr>\n",
       "    <tr>\n",
       "      <th>1</th>\n",
       "      <td>artemis1b</td>\n",
       "      <td>37965</td>\n",
       "      <td>18842.131322</td>\n",
       "      <td>53.120626</td>\n",
       "      <td>54.009483</td>\n",
       "    </tr>\n",
       "    <tr>\n",
       "      <th>2</th>\n",
       "      <td>artemis2</td>\n",
       "      <td>42955</td>\n",
       "      <td>21318.681705</td>\n",
       "      <td>60.102633</td>\n",
       "      <td>61.108320</td>\n",
       "    </tr>\n",
       "  </tbody>\n",
       "</table>\n",
       "</div>"
      ],
      "text/plain": [
       "     Mission  Payload (kg)  Total weight (kg)  Sample weight from total (kg)  \\\n",
       "0   artemis1         26988       13394.216782                      37.761608   \n",
       "1  artemis1b         37965       18842.131322                      53.120626   \n",
       "2   artemis2         42955       21318.681705                      60.102633   \n",
       "\n",
       "   Sample weight from payload (kg)  \n",
       "0                        38.393466  \n",
       "1                        54.009483  \n",
       "2                        61.108320  "
      ]
     },
     "execution_count": 40,
     "metadata": {},
     "output_type": "execute_result"
    }
   ],
   "source": [
    "artemis_mission['Sample weight from total (kg)'] = artemis_mission['Total weight (kg)'] * sample_crewedArea_ratio\n",
    "artemis_mission['Sample weight from payload (kg)'] = artemis_mission['Payload (kg)'] * sample_payload_ratio\n",
    "\n",
    "artemis_mission"
   ]
  },
  {
   "attachments": {},
   "cell_type": "markdown",
   "metadata": {},
   "source": [
    "پیش بینی وزن نمونه برداری با میانگین گیری از نتایج تفسیر"
   ]
  },
  {
   "cell_type": "code",
   "execution_count": 41,
   "metadata": {},
   "outputs": [
    {
     "data": {
      "text/html": [
       "<div>\n",
       "<style scoped>\n",
       "    .dataframe tbody tr th:only-of-type {\n",
       "        vertical-align: middle;\n",
       "    }\n",
       "\n",
       "    .dataframe tbody tr th {\n",
       "        vertical-align: top;\n",
       "    }\n",
       "\n",
       "    .dataframe thead th {\n",
       "        text-align: right;\n",
       "    }\n",
       "</style>\n",
       "<table border=\"1\" class=\"dataframe\">\n",
       "  <thead>\n",
       "    <tr style=\"text-align: right;\">\n",
       "      <th></th>\n",
       "      <th>Mission</th>\n",
       "      <th>Payload (kg)</th>\n",
       "      <th>Total weight (kg)</th>\n",
       "      <th>Sample weight from total (kg)</th>\n",
       "      <th>Sample weight from payload (kg)</th>\n",
       "      <th>Estimated sample weight (kg)</th>\n",
       "    </tr>\n",
       "  </thead>\n",
       "  <tbody>\n",
       "    <tr>\n",
       "      <th>0</th>\n",
       "      <td>artemis1</td>\n",
       "      <td>26988</td>\n",
       "      <td>13394.216782</td>\n",
       "      <td>37.761608</td>\n",
       "      <td>38.393466</td>\n",
       "      <td>38.077537</td>\n",
       "    </tr>\n",
       "    <tr>\n",
       "      <th>1</th>\n",
       "      <td>artemis1b</td>\n",
       "      <td>37965</td>\n",
       "      <td>18842.131322</td>\n",
       "      <td>53.120626</td>\n",
       "      <td>54.009483</td>\n",
       "      <td>53.565054</td>\n",
       "    </tr>\n",
       "    <tr>\n",
       "      <th>2</th>\n",
       "      <td>artemis2</td>\n",
       "      <td>42955</td>\n",
       "      <td>21318.681705</td>\n",
       "      <td>60.102633</td>\n",
       "      <td>61.108320</td>\n",
       "      <td>60.605476</td>\n",
       "    </tr>\n",
       "  </tbody>\n",
       "</table>\n",
       "</div>"
      ],
      "text/plain": [
       "     Mission  Payload (kg)  Total weight (kg)  Sample weight from total (kg)  \\\n",
       "0   artemis1         26988       13394.216782                      37.761608   \n",
       "1  artemis1b         37965       18842.131322                      53.120626   \n",
       "2   artemis2         42955       21318.681705                      60.102633   \n",
       "\n",
       "   Sample weight from payload (kg)  Estimated sample weight (kg)  \n",
       "0                        38.393466                     38.077537  \n",
       "1                        54.009483                     53.565054  \n",
       "2                        61.108320                     60.605476  "
      ]
     },
     "execution_count": 41,
     "metadata": {},
     "output_type": "execute_result"
    }
   ],
   "source": [
    "artemis_mission['Estimated sample weight (kg)'] = (artemis_mission['Sample weight from total (kg)'] + artemis_mission['Sample weight from payload (kg)']) / 2\n",
    "\n",
    "artemis_mission"
   ]
  },
  {
   "attachments": {},
   "cell_type": "markdown",
   "metadata": {},
   "source": [
    "تفسیر اولویت نمونه برداری"
   ]
  },
  {
   "cell_type": "code",
   "execution_count": 42,
   "metadata": {},
   "outputs": [
    {
     "data": {
      "text/html": [
       "<div>\n",
       "<style scoped>\n",
       "    .dataframe tbody tr th:only-of-type {\n",
       "        vertical-align: middle;\n",
       "    }\n",
       "\n",
       "    .dataframe tbody tr th {\n",
       "        vertical-align: top;\n",
       "    }\n",
       "\n",
       "    .dataframe thead th {\n",
       "        text-align: right;\n",
       "    }\n",
       "</style>\n",
       "<table border=\"1\" class=\"dataframe\">\n",
       "  <thead>\n",
       "    <tr style=\"text-align: right;\">\n",
       "      <th></th>\n",
       "      <th>ID</th>\n",
       "      <th>Weight (kg)</th>\n",
       "      <th>Pristine (%)</th>\n",
       "      <th>Remaining (kg)</th>\n",
       "    </tr>\n",
       "  </thead>\n",
       "  <tbody>\n",
       "    <tr>\n",
       "      <th>count</th>\n",
       "      <td>2208.000000</td>\n",
       "      <td>2208.000000</td>\n",
       "      <td>2208.000000</td>\n",
       "      <td>2208.000000</td>\n",
       "    </tr>\n",
       "    <tr>\n",
       "      <th>mean</th>\n",
       "      <td>52295.559783</td>\n",
       "      <td>0.168162</td>\n",
       "      <td>84.313465</td>\n",
       "      <td>0.137689</td>\n",
       "    </tr>\n",
       "    <tr>\n",
       "      <th>std</th>\n",
       "      <td>26118.027174</td>\n",
       "      <td>0.638858</td>\n",
       "      <td>21.833291</td>\n",
       "      <td>0.526621</td>\n",
       "    </tr>\n",
       "    <tr>\n",
       "      <th>min</th>\n",
       "      <td>10001.000000</td>\n",
       "      <td>0.000000</td>\n",
       "      <td>0.000000</td>\n",
       "      <td>0.000000</td>\n",
       "    </tr>\n",
       "    <tr>\n",
       "      <th>25%</th>\n",
       "      <td>15467.750000</td>\n",
       "      <td>0.003027</td>\n",
       "      <td>80.000000</td>\n",
       "      <td>0.002450</td>\n",
       "    </tr>\n",
       "    <tr>\n",
       "      <th>50%</th>\n",
       "      <td>65538.500000</td>\n",
       "      <td>0.010215</td>\n",
       "      <td>92.150000</td>\n",
       "      <td>0.008565</td>\n",
       "    </tr>\n",
       "    <tr>\n",
       "      <th>75%</th>\n",
       "      <td>72151.250000</td>\n",
       "      <td>0.093423</td>\n",
       "      <td>98.042500</td>\n",
       "      <td>0.077061</td>\n",
       "    </tr>\n",
       "    <tr>\n",
       "      <th>max</th>\n",
       "      <td>79537.000000</td>\n",
       "      <td>11.729000</td>\n",
       "      <td>100.000000</td>\n",
       "      <td>11.169527</td>\n",
       "    </tr>\n",
       "  </tbody>\n",
       "</table>\n",
       "</div>"
      ],
      "text/plain": [
       "                 ID  Weight (kg)  Pristine (%)  Remaining (kg)\n",
       "count   2208.000000  2208.000000   2208.000000     2208.000000\n",
       "mean   52295.559783     0.168162     84.313465        0.137689\n",
       "std    26118.027174     0.638858     21.833291        0.526621\n",
       "min    10001.000000     0.000000      0.000000        0.000000\n",
       "25%    15467.750000     0.003027     80.000000        0.002450\n",
       "50%    65538.500000     0.010215     92.150000        0.008565\n",
       "75%    72151.250000     0.093423     98.042500        0.077061\n",
       "max    79537.000000    11.729000    100.000000       11.169527"
      ]
     },
     "execution_count": 42,
     "metadata": {},
     "output_type": "execute_result"
    }
   ],
   "source": [
    "samples_df_modify['Remaining (kg)'] = samples_df_modify['Weight (kg)'] * (samples_df_modify['Pristine (%)'] * 0.01)\n",
    "\n",
    "samples_df_modify.describe()"
   ]
  },
  {
   "attachments": {},
   "cell_type": "markdown",
   "metadata": {},
   "source": [
    "تعریف دیتافریمی از نمونه های بحرانی"
   ]
  },
  {
   "cell_type": "code",
   "execution_count": 43,
   "metadata": {},
   "outputs": [
    {
     "name": "stdout",
     "output_type": "stream",
     "text": [
      "<class 'pandas.core.frame.DataFrame'>\n",
      "Int64Index: 1772 entries, 0 to 2228\n",
      "Data columns (total 7 columns):\n",
      " #   Column          Non-Null Count  Dtype  \n",
      "---  ------          --------------  -----  \n",
      " 0   ID              1772 non-null   int64  \n",
      " 1   Mission         1772 non-null   object \n",
      " 2   Type            1772 non-null   object \n",
      " 3   Subtype         1772 non-null   object \n",
      " 4   Weight (kg)     1772 non-null   float64\n",
      " 5   Pristine (%)    1772 non-null   float64\n",
      " 6   Remaining (kg)  1772 non-null   float64\n",
      "dtypes: float64(3), int64(1), object(3)\n",
      "memory usage: 110.8+ KB\n"
     ]
    }
   ],
   "source": [
    "samples_critical = samples_df_modify.loc[(samples_df_modify['Weight (kg)'] <= 0.168) & (samples_df_modify['Remaining (kg)'] <= 0.137)]\n",
    "\n",
    "samples_critical.info()"
   ]
  },
  {
   "attachments": {},
   "cell_type": "markdown",
   "metadata": {},
   "source": [
    "محاسبه وزن نمونه های بحرانی"
   ]
  },
  {
   "cell_type": "code",
   "execution_count": 44,
   "metadata": {},
   "outputs": [
    {
     "data": {
      "text/plain": [
       "Type\n",
       "Basalt      4.75262\n",
       "Breccia    12.32471\n",
       "Core        1.03927\n",
       "Crustal     0.48060\n",
       "Soil       17.81696\n",
       "Special     0.00300\n",
       "Name: Weight (kg), dtype: float64"
      ]
     },
     "execution_count": 44,
     "metadata": {},
     "output_type": "execute_result"
    }
   ],
   "source": [
    "samples_critical.groupby('Type')['Weight (kg)'].sum()"
   ]
  },
  {
   "attachments": {},
   "cell_type": "markdown",
   "metadata": {},
   "source": [
    "پیش بینی نمونه های مورد نیاز در آرتمیس"
   ]
  },
  {
   "cell_type": "code",
   "execution_count": 45,
   "metadata": {},
   "outputs": [],
   "source": [
    "# اگر همه نمونه های اولویت بندی شده از نظر محدودیت وزنی قابل پیشنهاد هستند.\n",
    "samples_needed = samples_critical\n",
    "\n",
    "# اگر وزن نمونه های اولویت بندی شده بیش از ظرفیت وزنی نمونه گیری آرتمیس باشد\n",
    "# samples_needed = samples_critical.loc[samples_critical['Type'].isin(['Basalt', 'Breccia'])]"
   ]
  },
  {
   "attachments": {},
   "cell_type": "markdown",
   "metadata": {},
   "source": [
    "چکیده گزارش پیش بینی وزن و نوع نمونه های مورد نیاز"
   ]
  },
  {
   "cell_type": "code",
   "execution_count": 46,
   "metadata": {},
   "outputs": [
    {
     "data": {
      "text/html": [
       "<div>\n",
       "<style scoped>\n",
       "    .dataframe tbody tr th:only-of-type {\n",
       "        vertical-align: middle;\n",
       "    }\n",
       "\n",
       "    .dataframe tbody tr th {\n",
       "        vertical-align: top;\n",
       "    }\n",
       "\n",
       "    .dataframe thead th {\n",
       "        text-align: right;\n",
       "    }\n",
       "</style>\n",
       "<table border=\"1\" class=\"dataframe\">\n",
       "  <thead>\n",
       "    <tr style=\"text-align: right;\">\n",
       "      <th></th>\n",
       "      <th>Type</th>\n",
       "      <th>Weight (kg)</th>\n",
       "    </tr>\n",
       "  </thead>\n",
       "  <tbody>\n",
       "    <tr>\n",
       "      <th>0</th>\n",
       "      <td>Soil</td>\n",
       "      <td>17.81696</td>\n",
       "    </tr>\n",
       "    <tr>\n",
       "      <th>1</th>\n",
       "      <td>Core</td>\n",
       "      <td>1.03927</td>\n",
       "    </tr>\n",
       "    <tr>\n",
       "      <th>2</th>\n",
       "      <td>Breccia</td>\n",
       "      <td>12.32471</td>\n",
       "    </tr>\n",
       "    <tr>\n",
       "      <th>3</th>\n",
       "      <td>Basalt</td>\n",
       "      <td>4.75262</td>\n",
       "    </tr>\n",
       "    <tr>\n",
       "      <th>4</th>\n",
       "      <td>Crustal</td>\n",
       "      <td>0.48060</td>\n",
       "    </tr>\n",
       "    <tr>\n",
       "      <th>5</th>\n",
       "      <td>Special</td>\n",
       "      <td>0.00300</td>\n",
       "    </tr>\n",
       "  </tbody>\n",
       "</table>\n",
       "</div>"
      ],
      "text/plain": [
       "      Type  Weight (kg)\n",
       "0     Soil     17.81696\n",
       "1     Core      1.03927\n",
       "2  Breccia     12.32471\n",
       "3   Basalt      4.75262\n",
       "4  Crustal      0.48060\n",
       "5  Special      0.00300"
      ]
     },
     "execution_count": 46,
     "metadata": {},
     "output_type": "execute_result"
    }
   ],
   "source": [
    "samples_needed_overview = pd.DataFrame()\n",
    "\n",
    "samples_needed_overview['Type'] = samples_critical['Type'].unique()\n",
    "samples_needed_weight = samples_needed.groupby('Type')['Weight (kg)'].sum().reset_index()\n",
    "samples_needed_overview = pd.merge(samples_needed_overview, samples_needed_weight, on='Type')\n",
    "\n",
    "samples_needed_overview"
   ]
  },
  {
   "attachments": {},
   "cell_type": "markdown",
   "metadata": {},
   "source": [
    "---"
   ]
  },
  {
   "attachments": {},
   "cell_type": "markdown",
   "metadata": {},
   "source": [
    "**End.**"
   ]
  }
 ],
 "metadata": {
  "kernelspec": {
   "display_name": "Python 3",
   "language": "python",
   "name": "python3"
  },
  "language_info": {
   "codemirror_mode": {
    "name": "ipython",
    "version": 3
   },
   "file_extension": ".py",
   "mimetype": "text/x-python",
   "name": "python",
   "nbconvert_exporter": "python",
   "pygments_lexer": "ipython3",
   "version": "3.11.2"
  },
  "orig_nbformat": 4
 },
 "nbformat": 4,
 "nbformat_minor": 2
}
